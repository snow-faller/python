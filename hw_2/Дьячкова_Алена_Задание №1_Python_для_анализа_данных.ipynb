{
  "nbformat": 4,
  "nbformat_minor": 0,
  "metadata": {
    "colab": {
      "provenance": []
    },
    "kernelspec": {
      "name": "python3",
      "display_name": "Python 3"
    },
    "language_info": {
      "name": "python"
    }
  },
  "cells": [
    {
      "cell_type": "markdown",
      "source": [
        "**Описание задания**\n",
        "\n",
        "\n",
        "1. Создайте класс Chocolate (для определения шоколадного батончика), принимающий следующие аргументы при инициализации: цена батончика (тип - float), добавка к шоколаду (необязательный аргумент, тип - str) - 2 балла\n",
        "\n",
        "2. При инициализации необходимо проверять, чтобы цена батончика была больше нуля, если цена меньше нуля необходимо вызывать исключение ValueError - 2 балла\n",
        "\n",
        "3. Реализуйте метод show_my_chocolate, выводящий на печать \"Шоколадный батончик, добавка: {ДОБАВКА}\" в случае наличия добавки, а иначе должна отобразиться следующая фраза: \"Обычный шоколадный батончик\" - 2 балла\n",
        "\n",
        "4. Переопределите метод __str__, который при применении функции print() к объекты класса Chocolate должен возвращать строку \"Шоколадный батончик, <ЦЕНА> рублей\" - 2 балла\n",
        "\n",
        "5. Продемонстрируйте использование соответствующего функционала вашего класса, создав несколько объектов Chocolate с различными аргументами - 2 балла\n"
      ],
      "metadata": {
        "id": "yF8DJcSzAd1u"
      }
    },
    {
      "cell_type": "code",
      "execution_count": 4,
      "metadata": {
        "colab": {
          "base_uri": "https://localhost:8080/"
        },
        "id": "RlUbF-0hAI1S",
        "outputId": "ba27a55d-2fbe-4977-9a76-b34792d221a1"
      },
      "outputs": [
        {
          "output_type": "stream",
          "name": "stdout",
          "text": [
            "Шоколадный батончик, 34.8 рублей\n",
            "Шоколадный батончик, добавка: орехи\n",
            "\n",
            "Шоколадный батончик, добавка: фундук\n",
            "Шоколадный батончик, 55 рублей\n",
            "\n",
            "Шоколадный батончик, добавка: малина\n",
            "Шоколадный батончик, 67 рублей\n",
            "\n",
            "Обычный шоколадный батончик\n",
            "Шоколадный батончик, 89 рублей\n",
            "\n"
          ]
        }
      ],
      "source": [
        "class Chocolate:\n",
        "  def __init__(self, price: float, topping: str = None):\n",
        "    if price <= 0:\n",
        "      raise ValueError('Цена батончика должна быть больше нуля')\n",
        "    self.price = price\n",
        "    self.topping = topping\n",
        "\n",
        "  def show_my_chocolate(self):\n",
        "    if self.topping != None:\n",
        "      print(f'Шоколадный батончик, добавка: {self.topping}')\n",
        "    else:\n",
        "      print('Обычный шоколадный батончик')\n",
        "  def __str__(self):\n",
        "    return (f'Шоколадный батончик, {self.price} рублей')\n",
        "\n",
        "\n",
        "chocolate = Chocolate(34.8, 'орехи')\n",
        "print(chocolate)\n",
        "chocolate.show_my_chocolate()\n",
        "\n",
        "#Демонстрация работы класса\n",
        "chocolate1 = Chocolate(67, 'малина')\n",
        "chocolate2 = Chocolate(89)\n",
        "print()\n",
        "chocolate3 = Chocolate(55, 'фундук')\n",
        "chocolate3.show_my_chocolate()\n",
        "print(chocolate3)\n",
        "print()\n",
        "chocolate1.show_my_chocolate()\n",
        "print(chocolate1)\n",
        "print()\n",
        "chocolate2.show_my_chocolate()\n",
        "print(chocolate2)\n",
        "print()\n",
        "\n"
      ]
    }
  ]
}